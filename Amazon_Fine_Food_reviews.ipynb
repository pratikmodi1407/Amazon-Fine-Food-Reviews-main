{
 "cells": [
  {
   "cell_type": "markdown",
   "metadata": {},
   "source": [
    "Amazon Fine Food Reviews Analysis¶\n",
    "Data Source: https://www.kaggle.com/snap/amazon-fine-food-reviews The Amazon Fine Food Reviews dataset consists of reviews of fine foods from Amazon.\n",
    "\n",
    "Number of reviews: 568,454\n",
    "Number of users: 256,059\n",
    "Number of products: 74,258\n",
    "Timespan: Oct 1999 - Oct 2012\n",
    "Number of Attributes/Columns in data: 10\n",
    "\n",
    "Attribute Information:\n",
    "\n",
    "Id\n",
    "ProductId - unique identifier for the product\n",
    "UserId - unqiue identifier for the user\n",
    "ProfileName\n",
    "HelpfulnessNumerator - number of users who found the review helpful\n",
    "HelpfulnessDenominator - number of users who indicated whether they found the review helpful or not\n",
    "Score - rating between 1 and 5\n",
    "Time - timestamp for the review\n",
    "Summary - brief summary of the review\n",
    "Text - text of the review\n",
    "\n",
    "Objective:\n",
    "Given a review, determine whether the review is positive (Rating of 4 or 5) or negative (rating of 1, 2, 3)"
   ]
  },
  {
   "cell_type": "code",
   "execution_count": 6,
   "metadata": {},
   "outputs": [],
   "source": [
    "# Import Data Set \n",
    "import pandas as pd\n",
    "import matplotlib.pyplot as plt\n",
    "import numpy as np\n",
    "from sklearn.feature_extraction.text import CountVectorizer\n",
    "from sklearn.cross_validation import train_test_split"
   ]
  },
  {
   "cell_type": "code",
   "execution_count": 10,
   "metadata": {
    "collapsed": true
   },
   "outputs": [],
   "source": [
    "data = pd.read_csv(r'/Users/samipya/Desktop/train_articles.csv')\n",
    "#df = data.copy()"
   ]
  },
  {
   "cell_type": "code",
   "execution_count": null,
   "metadata": {
    "collapsed": true
   },
   "outputs": [],
   "source": [
    "data.head()"
   ]
  },
  {
   "cell_type": "code",
   "execution_count": 38,
   "metadata": {},
   "outputs": [
    {
     "name": "stdout",
     "output_type": "stream",
     "text": [
      "(397900, 10)\n"
     ]
    },
    {
     "data": {
      "text/html": [
       "<div>\n",
       "<table border=\"1\" class=\"dataframe\">\n",
       "  <thead>\n",
       "    <tr style=\"text-align: right;\">\n",
       "      <th></th>\n",
       "      <th>Id</th>\n",
       "      <th>ProductId</th>\n",
       "      <th>UserId</th>\n",
       "      <th>ProfileName</th>\n",
       "      <th>HelpfulnessNumerator</th>\n",
       "      <th>HelpfulnessDenominator</th>\n",
       "      <th>Score</th>\n",
       "      <th>Time</th>\n",
       "      <th>Summary</th>\n",
       "      <th>Text</th>\n",
       "    </tr>\n",
       "  </thead>\n",
       "  <tbody>\n",
       "    <tr>\n",
       "      <th>0</th>\n",
       "      <td>1</td>\n",
       "      <td>B001E4KFG0</td>\n",
       "      <td>A3SGXH7AUHU8GW</td>\n",
       "      <td>delmartian</td>\n",
       "      <td>1</td>\n",
       "      <td>1</td>\n",
       "      <td>1</td>\n",
       "      <td>1303862400</td>\n",
       "      <td>Good Quality Dog Food</td>\n",
       "      <td>I have bought several of the Vitality canned d...</td>\n",
       "    </tr>\n",
       "    <tr>\n",
       "      <th>1</th>\n",
       "      <td>2</td>\n",
       "      <td>B00813GRG4</td>\n",
       "      <td>A1D87F6ZCVE5NK</td>\n",
       "      <td>dll pa</td>\n",
       "      <td>0</td>\n",
       "      <td>0</td>\n",
       "      <td>0</td>\n",
       "      <td>1346976000</td>\n",
       "      <td>Not as Advertised</td>\n",
       "      <td>Product arrived labeled as Jumbo Salted Peanut...</td>\n",
       "    </tr>\n",
       "    <tr>\n",
       "      <th>2</th>\n",
       "      <td>3</td>\n",
       "      <td>B000LQOCH0</td>\n",
       "      <td>ABXLMWJIXXAIN</td>\n",
       "      <td>Natalia Corres \"Natalia Corres\"</td>\n",
       "      <td>1</td>\n",
       "      <td>1</td>\n",
       "      <td>1</td>\n",
       "      <td>1219017600</td>\n",
       "      <td>\"Delight\" says it all</td>\n",
       "      <td>This is a confection that has been around a fe...</td>\n",
       "    </tr>\n",
       "    <tr>\n",
       "      <th>3</th>\n",
       "      <td>5</td>\n",
       "      <td>B006K2ZZ7K</td>\n",
       "      <td>A1UQRSCLF8GW1T</td>\n",
       "      <td>Michael D. Bigham \"M. Wassir\"</td>\n",
       "      <td>0</td>\n",
       "      <td>0</td>\n",
       "      <td>1</td>\n",
       "      <td>1350777600</td>\n",
       "      <td>Great taffy</td>\n",
       "      <td>Great taffy at a great price.  There was a wid...</td>\n",
       "    </tr>\n",
       "    <tr>\n",
       "      <th>4</th>\n",
       "      <td>6</td>\n",
       "      <td>B006K2ZZ7K</td>\n",
       "      <td>ADT0SRK1MGOEU</td>\n",
       "      <td>Twoapennything</td>\n",
       "      <td>0</td>\n",
       "      <td>0</td>\n",
       "      <td>1</td>\n",
       "      <td>1342051200</td>\n",
       "      <td>Nice Taffy</td>\n",
       "      <td>I got a wild hair for taffy and ordered this f...</td>\n",
       "    </tr>\n",
       "  </tbody>\n",
       "</table>\n",
       "</div>"
      ],
      "text/plain": [
       "   Id   ProductId          UserId                      ProfileName  \\\n",
       "0   1  B001E4KFG0  A3SGXH7AUHU8GW                       delmartian   \n",
       "1   2  B00813GRG4  A1D87F6ZCVE5NK                           dll pa   \n",
       "2   3  B000LQOCH0   ABXLMWJIXXAIN  Natalia Corres \"Natalia Corres\"   \n",
       "3   5  B006K2ZZ7K  A1UQRSCLF8GW1T    Michael D. Bigham \"M. Wassir\"   \n",
       "4   6  B006K2ZZ7K   ADT0SRK1MGOEU                   Twoapennything   \n",
       "\n",
       "   HelpfulnessNumerator  HelpfulnessDenominator  Score        Time  \\\n",
       "0                     1                       1      1  1303862400   \n",
       "1                     0                       0      0  1346976000   \n",
       "2                     1                       1      1  1219017600   \n",
       "3                     0                       0      1  1350777600   \n",
       "4                     0                       0      1  1342051200   \n",
       "\n",
       "                 Summary                                               Text  \n",
       "0  Good Quality Dog Food  I have bought several of the Vitality canned d...  \n",
       "1      Not as Advertised  Product arrived labeled as Jumbo Salted Peanut...  \n",
       "2  \"Delight\" says it all  This is a confection that has been around a fe...  \n",
       "3            Great taffy  Great taffy at a great price.  There was a wid...  \n",
       "4             Nice Taffy  I got a wild hair for taffy and ordered this f...  "
      ]
     },
     "execution_count": 38,
     "metadata": {},
     "output_type": "execute_result"
    }
   ],
   "source": [
    "# for model building consider 1,2,3 star rating as 0(Low Rating) and 4,5 included as 1(High  Rating)\n",
    "df = data[pd.notnull(data.Summary)]\n",
    "df['Score'] = df['Score'].apply(lambda x: 1 if (x > 3)  else 0)\n",
    "print(df.shape)\n",
    "df.head()"
   ]
  },
  {
   "cell_type": "code",
   "execution_count": 39,
   "metadata": {},
   "outputs": [
    {
     "data": {
      "image/png": "[encoded data removed]",
      "text/plain": [
       "<matplotlib.figure.Figure at 0x154ab6588>"
      ]
     },
     "metadata": {},
     "output_type": "display_data"
    }
   ],
   "source": [
    "##Distribution of the Score\n",
    "df1 = df.groupby('Score').size()\n",
    "df1.plot(kind='barh',title = 'Ratings Distribution', color =( 'red', 'green'))\n",
    "plt.xlabel('rating')\n",
    "plt.ylabel('values')\n",
    "plt.show()"
   ]
  },
  {
   "cell_type": "code",
   "execution_count": 40,
   "metadata": {},
   "outputs": [
    {
     "data": {
      "text/plain": [
       "Score\n",
       "0    22.007037\n",
       "1    77.992963\n",
       "dtype: float64"
      ]
     },
     "execution_count": 40,
     "metadata": {},
     "output_type": "execute_result"
    }
   ],
   "source": [
    "# Calculate Percentage of High Rating and low Rating\n",
    "percentage = df1/sum(df1)*100\n",
    "percentage"
   ]
  },
  {
   "cell_type": "markdown",
   "metadata": {},
   "source": [
    "78% data correspond to Positive rating class and 22% Reviews are correspond to Negative class rating"
   ]
  },
  {
   "cell_type": "code",
   "execution_count": 44,
   "metadata": {},
   "outputs": [],
   "source": [
    "# Define x and y (Considering only Summary & Text columns for classification)\n",
    "x = df.Summary + df.Text\n",
    "y = df.Score\n",
    "\n",
    "#Splitting the data into Train & Test\n",
    "from sklearn.cross_validation import train_test_split\n",
    "x_train, x_test, y_train, y_test = train_test_split(x, y, random_state=1)"
   ]
  },
  {
   "cell_type": "code",
   "execution_count": 46,
   "metadata": {},
   "outputs": [
    {
     "name": "stdout",
     "output_type": "stream",
     "text": [
      "<class 'scipy.sparse.csr.csr_matrix'>\n",
      "(298425, 148112)\n",
      "  (0, 104484)\t1\n",
      "  (0, 114694)\t1\n",
      "  (0, 133287)\t1\n",
      "  (0, 4946)\t1\n",
      "  (0, 46791)\t1\n",
      "  (0, 132244)\t1\n",
      "  (0, 65706)\t1\n",
      "  (0, 32420)\t1\n",
      "  (0, 27520)\t1\n",
      "  (0, 46716)\t1\n",
      "  (0, 78808)\t1\n",
      "  (0, 45743)\t1\n",
      "  (0, 47335)\t1\n",
      "  (0, 34648)\t1\n",
      "  (0, 79748)\t2\n",
      "  (0, 27291)\t1\n",
      "  (0, 18316)\t1\n",
      "  (0, 65992)\t2\n",
      "  (0, 34398)\t1\n",
      "  (0, 114220)\t1\n",
      "  (0, 84787)\t1\n",
      "  (0, 83952)\t1\n",
      "  (0, 106413)\t1\n",
      "  (0, 117331)\t1\n",
      "  (0, 1760)\t1\n",
      "  :\t:\n",
      "  (0, 120180)\t1\n",
      "  (0, 32096)\t1\n",
      "  (0, 93701)\t1\n",
      "  (0, 22790)\t3\n",
      "  (0, 10621)\t3\n",
      "  (0, 146704)\t2\n",
      "  (0, 141056)\t5\n",
      "  (0, 89084)\t3\n",
      "  (0, 57272)\t2\n",
      "  (0, 144646)\t2\n",
      "  (0, 91517)\t1\n",
      "  (0, 132330)\t8\n",
      "  (0, 70642)\t3\n",
      "  (0, 73194)\t2\n",
      "  (0, 8328)\t2\n",
      "  (0, 121238)\t1\n",
      "  (0, 142523)\t3\n",
      "  (0, 93731)\t1\n",
      "  (0, 133111)\t2\n",
      "  (0, 6966)\t2\n",
      "  (0, 132850)\t1\n",
      "  (0, 72983)\t1\n",
      "  (0, 95094)\t1\n",
      "  (0, 134171)\t6\n",
      "  (0, 92776)\t3\n"
     ]
    }
   ],
   "source": [
    "# Create instantiation for CounterVectorizer\n",
    "from sklearn.feature_extraction.text import CountVectorizer\n",
    "vect = CountVectorizer()\n",
    "x_train_dtm = vect.fit_transform(x_train)\n",
    "x_train_dtm\n",
    "print(type(x_train_dtm))\n",
    "print(x_train_dtm.shape)\n",
    "print(x_train_dtm[10,:])"
   ]
  },
  {
   "cell_type": "code",
   "execution_count": 47,
   "metadata": {
    "collapsed": true
   },
   "outputs": [],
   "source": [
    "# transform testing data (using fitted vocabulary) into a document-term matrix\n",
    "x_test_dtm = vect.transform(x_test)"
   ]
  },
  {
   "cell_type": "markdown",
   "metadata": {},
   "source": [
    "# MULTINOMIAL NAIVE BAYES"
   ]
  },
  {
   "cell_type": "code",
   "execution_count": 48,
   "metadata": {},
   "outputs": [
    {
     "name": "stdout",
     "output_type": "stream",
     "text": [
      "CPU times: user 287 ms, sys: 107 ms, total: 394 ms\n",
      "Wall time: 666 ms\n"
     ]
    },
    {
     "data": {
      "text/plain": [
       "MultinomialNB(alpha=1.0, class_prior=None, fit_prior=True)"
      ]
     },
     "execution_count": 48,
     "metadata": {},
     "output_type": "execute_result"
    }
   ],
   "source": [
    "# Create instantiation of Multinomial Naive bayes and from that check about various parameters\n",
    "#by default laplace smooting i.e. alpha=1.0\n",
    "from sklearn.naive_bayes import MultinomialNB\n",
    "nb = MultinomialNB()\n",
    "# train the model using X_train_dtm (timing it with an IPython \"magic command\")\n",
    "# to know how much time this command will take for execution\n",
    "%time nb.fit(x_train_dtm, y_train)"
   ]
  },
  {
   "cell_type": "code",
   "execution_count": 50,
   "metadata": {},
   "outputs": [],
   "source": [
    "# Prediction using Multinomial Naive bayes\n",
    "y_pred_class = nb.predict(x_test_dtm)"
   ]
  },
  {
   "cell_type": "code",
   "execution_count": 52,
   "metadata": {},
   "outputs": [
    {
     "data": {
      "image/png": "[encoded data removed]",
      "text/plain": [
       "<matplotlib.figure.Figure at 0x154c5d208>"
      ]
     },
     "metadata": {},
     "output_type": "display_data"
    }
   ],
   "source": [
    "from sklearn.metrics import confusion_matrix\n",
    "from sklearn import metrics\n",
    "gb=metrics.confusion_matrix(y_test, y_pred_class)\n",
    "\n",
    "#Plot of Confusion Metric\n",
    "import matplotlib as plt\n",
    "from sklearn.metrics import confusion_matrix\n",
    "import pylab as pl\n",
    "pl.matshow(gb)\n",
    "# cm = metrics.confusion_matrix(y_test, y_pred_class, labels=['FAKE', 'REAL'])\n",
    "pl.title('Confusion matrix')\n",
    "pl.colorbar()\n",
    "pl.show()"
   ]
  },
  {
   "cell_type": "code",
   "execution_count": 55,
   "metadata": {},
   "outputs": [
    {
     "name": "stdout",
     "output_type": "stream",
     "text": [
      "Accuracy 0.895943704448\n",
      "Recall 0.93167125969\n",
      "Precision 0.934813226002\n",
      "F1-Score 0.933239598315\n",
      "             precision    recall  f1-score   support\n",
      "\n",
      "   Negative       0.76      0.77      0.76     21821\n",
      "   Positive       0.93      0.93      0.93     77654\n",
      "\n",
      "avg / total       0.90      0.90      0.90     99475\n",
      "\n"
     ]
    }
   ],
   "source": [
    "# Accuracy must be greater than 84% in this case because without any model text belong to positive class\n",
    "# is 84%, this is imbalanced data set\n",
    "print('Accuracy', metrics.accuracy_score(y_test, y_pred_class))\n",
    "print('Recall',metrics.recall_score(y_test,y_pred_class))\n",
    "print('Precision' ,metrics.precision_score(y_test,y_pred_class))\n",
    "print('F1-Score',metrics.f1_score(y_test,y_pred_class))\n",
    "from sklearn.metrics import classification_report\n",
    "print(classification_report(y_test,y_pred_class,target_names=['Negative','Positive']))"
   ]
  },
  {
   "cell_type": "code",
   "execution_count": 58,
   "metadata": {},
   "outputs": [
    {
     "name": "stdout",
     "output_type": "stream",
     "text": [
      "ROC Rate 0.932301153229\n"
     ]
    },
    {
     "data": {
      "image/png": "[encoded data removed]",
      "text/plain": [
       "<matplotlib.figure.Figure at 0x154ab6518>"
      ]
     },
     "metadata": {},
     "output_type": "display_data"
    }
   ],
   "source": [
    "# calculate AUC without probabilities values\n",
    "y_pred_prob = nb.predict_proba(x_test_dtm)[:,1]\n",
    "from sklearn.metrics import roc_curve, auc\n",
    "import matplotlib.pyplot as plt\n",
    "import random\n",
    "false_positive_rate, true_positive_rate, thresholds = roc_curve(y_test, y_pred_prob)\n",
    "roc_auc = auc(false_positive_rate, true_positive_rate)\n",
    "print('ROC Rate', roc_auc)\n",
    "plt.title('Receiver Operating Characteristic')\n",
    "plt.plot(false_positive_rate, true_positive_rate, 'g',\n",
    "label='AUC = %0.2f'% roc_auc)\n",
    "plt.legend(loc='lower right')\n",
    "plt.plot([0,1],[0,1],'r--')\n",
    "plt.xlim([-0.1,1.2])\n",
    "plt.ylim([-0.1,1.2])\n",
    "plt.ylabel('True Positive Rate')\n",
    "plt.xlabel('False Positive Rate')\n",
    "plt.show()"
   ]
  },
  {
   "cell_type": "markdown",
   "metadata": {},
   "source": [
    "# LOGISTIC REGRESSION"
   ]
  },
  {
   "cell_type": "code",
   "execution_count": 59,
   "metadata": {},
   "outputs": [
    {
     "name": "stdout",
     "output_type": "stream",
     "text": [
      "CPU times: user 7min 56s, sys: 5.15 s, total: 8min 1s\n",
      "Wall time: 4min 18s\n"
     ]
    },
    {
     "data": {
      "text/plain": [
       "LogisticRegression(C=1.0, class_weight=None, dual=False, fit_intercept=True,\n",
       "          intercept_scaling=1, max_iter=100, multi_class='ovr', n_jobs=1,\n",
       "          penalty='l2', random_state=None, solver='liblinear', tol=0.0001,\n",
       "          verbose=0, warm_start=False)"
      ]
     },
     "execution_count": 59,
     "metadata": {},
     "output_type": "execute_result"
    }
   ],
   "source": [
    "from sklearn.linear_model import LogisticRegression\n",
    "logreg = LogisticRegression()\n",
    "# train the model using X_train_dtm\n",
    "%time logreg.fit(x_train_dtm, y_train)"
   ]
  },
  {
   "cell_type": "code",
   "execution_count": 60,
   "metadata": {
    "collapsed": true
   },
   "outputs": [],
   "source": [
    "# make class predictions for X_test_dtm\n",
    "y1_pred_class = logreg.predict(x_test_dtm)"
   ]
  },
  {
   "cell_type": "code",
   "execution_count": 63,
   "metadata": {},
   "outputs": [
    {
     "name": "stdout",
     "output_type": "stream",
     "text": [
      "ROC Rate 0.955653391215\n"
     ]
    }
   ],
   "source": [
    "# calculate predicted probabilities for X_test_dtm (well calibrated)\n",
    "y1_pred_prob = logreg.predict_proba(x_test_dtm)[:,1]\n",
    "\n",
    "# Calculating ROC Rate\n",
    "false_positive_rate, true_positive_rate, thresholds = roc_curve(y_test, y1_pred_prob)\n",
    "roc_lg = auc(false_positive_rate, true_positive_rate)\n",
    "print('ROC Rate', roc_lg)"
   ]
  },
  {
   "cell_type": "code",
   "execution_count": 64,
   "metadata": {},
   "outputs": [
    {
     "data": {
      "image/png": "[encoded data removed]",
      "text/plain": [
       "<matplotlib.figure.Figure at 0x13d4f4940>"
      ]
     },
     "metadata": {},
     "output_type": "display_data"
    }
   ],
   "source": [
    "# PLot AUC For Logistic Regression\n",
    "from sklearn.metrics import roc_curve, auc\n",
    "import matplotlib.pyplot as plt\n",
    "import random\n",
    "plt.title('Receiver Operating Characteristic')\n",
    "plt.plot(false_positive_rate, true_positive_rate, 'b',\n",
    "label='AUC = %0.2f'% roc_lg)\n",
    "plt.legend(loc='lower right')\n",
    "plt.plot([0,1],[0,1],'r--')\n",
    "plt.xlim([-0.1,1.2])\n",
    "plt.ylim([-0.1,1.2])\n",
    "plt.ylabel('True Positive Rate')\n",
    "plt.xlabel('False Positive Rate')\n",
    "plt.show()"
   ]
  },
  {
   "cell_type": "code",
   "execution_count": 66,
   "metadata": {},
   "outputs": [
    {
     "name": "stdout",
     "output_type": "stream",
     "text": [
      "Accuracy 0.922975622016\n",
      "Recall 0.961689030829\n",
      "Precision 0.940944485044\n",
      "F1 Score 0.951203668323\n",
      "             precision    recall  f1-score   support\n",
      "\n",
      "   Negative       0.85      0.79      0.82     21821\n",
      "   Positive       0.94      0.96      0.95     77654\n",
      "\n",
      "avg / total       0.92      0.92      0.92     99475\n",
      "\n"
     ]
    }
   ],
   "source": [
    "# calculate accuracy,precision,recall,F1 score\n",
    "print('Accuracy', metrics.accuracy_score(y_test, y1_pred_class))\n",
    "print('Recall', metrics.recall_score(y_test,y1_pred_class))\n",
    "print('Precision', metrics.precision_score(y_test,y1_pred_class))\n",
    "print('F1 Score', metrics.f1_score(y_test,y1_pred_class))\n",
    "\n",
    "#  classification_report\n",
    "print(classification_report(y_test,y1_pred_class,target_names=['Negative','Positive']))"
   ]
  },
  {
   "cell_type": "markdown",
   "metadata": {},
   "source": [
    "# LOGISTIC REGRESSION THROUGH L1 REGULARIZATION"
   ]
  },
  {
   "cell_type": "code",
   "execution_count": 67,
   "metadata": {},
   "outputs": [
    {
     "name": "stdout",
     "output_type": "stream",
     "text": [
      "CPU times: user 46.3 s, sys: 1.19 s, total: 47.5 s\n",
      "Wall time: 51.2 s\n"
     ]
    },
    {
     "data": {
      "text/plain": [
       "LogisticRegression(C=1, class_weight=None, dual=False, fit_intercept=True,\n",
       "          intercept_scaling=1, max_iter=100, multi_class='ovr', n_jobs=1,\n",
       "          penalty='l1', random_state=None, solver='liblinear', tol=0.0001,\n",
       "          verbose=0, warm_start=False)"
      ]
     },
     "execution_count": 67,
     "metadata": {},
     "output_type": "execute_result"
    }
   ],
   "source": [
    "from sklearn.linear_model import LogisticRegression\n",
    "logreg1 = LogisticRegression(penalty='l1',C=1)\n",
    "%time logreg1.fit(x_train_dtm, y_train)"
   ]
  },
  {
   "cell_type": "code",
   "execution_count": 69,
   "metadata": {},
   "outputs": [],
   "source": [
    "# make class predictions for X_test_dtm\n",
    "y2_pred_class = logreg1.predict(x_test_dtm)"
   ]
  },
  {
   "cell_type": "code",
   "execution_count": 72,
   "metadata": {},
   "outputs": [
    {
     "name": "stdout",
     "output_type": "stream",
     "text": [
      "ROC Rate 0.955653391215\n"
     ]
    },
    {
     "data": {
      "image/png": "[encoded data removed]",
      "text/plain": [
       "<matplotlib.figure.Figure at 0x13d448d68>"
      ]
     },
     "metadata": {},
     "output_type": "display_data"
    }
   ],
   "source": [
    "# Calculating ROC Rate\n",
    "y2_pred_prob = logreg.predict_proba(x_test_dtm)[:,1]\n",
    "false_positive_rate, true_positive_rate, thresholds = roc_curve(y_test, y2_pred_prob)\n",
    "roc_lg = auc(false_positive_rate, true_positive_rate)\n",
    "print('ROC Rate', roc_lg)\n",
    "from matplotlib import pyplot as plt\n",
    "plt.title('Receiver Operating Characteristic')\n",
    "plt.plot(false_positive_rate, true_positive_rate, 'g',\n",
    "label='AUC = %0.2f'% roc_lg)\n",
    "plt.legend(loc='lower right')\n",
    "plt.plot([0,1],[0,1],'r--')\n",
    "plt.xlim([-0.1,1.2])\n",
    "plt.ylim([-0.1,1.2])\n",
    "plt.ylabel('True Positive Rate')\n",
    "plt.xlabel('False Positive Rate')\n",
    "plt.show()"
   ]
  },
  {
   "cell_type": "code",
   "execution_count": null,
   "metadata": {
    "collapsed": true
   },
   "outputs": [],
   "source": [
    "# calculate accuracy,precision,recall,F1 score\n",
    "print('Accuracy', metrics.accuracy_score(y_test, y2_pred_class))\n",
    "print('Recall', metrics.recall_score(y_test,y2_pred_class))\n",
    "print('Precision', metrics.precision_score(y_test,y2_pred_class))\n",
    "print('F1 Score', metrics.f1_score(y_test,y2_pred_class))"
   ]
  },
  {
   "cell_type": "markdown",
   "metadata": {},
   "source": [
    "# LINEAR SVM USING SGD"
   ]
  },
  {
   "cell_type": "code",
   "execution_count": 74,
   "metadata": {},
   "outputs": [
    {
     "name": "stdout",
     "output_type": "stream",
     "text": [
      "CPU times: user 1.05 s, sys: 96.7 ms, total: 1.15 s\n",
      "Wall time: 1.05 s\n"
     ]
    },
    {
     "data": {
      "text/plain": [
       "SGDClassifier(alpha=0.0001, average=False, class_weight=None, epsilon=0.1,\n",
       "       eta0=0.0, fit_intercept=True, l1_ratio=0.15,\n",
       "       learning_rate='optimal', loss='hinge', n_iter=5, n_jobs=1,\n",
       "       penalty='l2', power_t=0.5, random_state=None, shuffle=True,\n",
       "       verbose=0, warm_start=False)"
      ]
     },
     "execution_count": 74,
     "metadata": {},
     "output_type": "execute_result"
    }
   ],
   "source": [
    "# fit train data into Model\n",
    "from sklearn.linear_model import SGDClassifier\n",
    "clf = SGDClassifier(loss=\"hinge\", penalty=\"l2\")\n",
    "%time clf.fit(x_train_dtm, y_train)"
   ]
  },
  {
   "cell_type": "code",
   "execution_count": 76,
   "metadata": {
    "collapsed": true
   },
   "outputs": [],
   "source": [
    "# Predict the class label on test class\n",
    "ys_pred_class = clf.predict(x_test_dtm)\n"
   ]
  },
  {
   "cell_type": "code",
   "execution_count": 77,
   "metadata": {},
   "outputs": [
    {
     "name": "stdout",
     "output_type": "stream",
     "text": [
      "Accuracy 0.894174415682\n",
      "Recall 0.923893167126\n",
      "Precision 0.939537198308\n",
      "F1-Score 0.931649514658\n",
      "             precision    recall  f1-score   support\n",
      "\n",
      "   Negative       0.74      0.79      0.77     21821\n",
      "   Positive       0.94      0.92      0.93     77654\n",
      "\n",
      "avg / total       0.90      0.89      0.90     99475\n",
      "\n"
     ]
    }
   ],
   "source": [
    "# Evaluation Metrics for SVM Model\n",
    "print('Accuracy', metrics.accuracy_score(y_test, ys_pred_class))\n",
    "print('Recall',metrics.recall_score(y_test,ys_pred_class))\n",
    "print('Precision' ,metrics.precision_score(y_test,ys_pred_class))\n",
    "print('F1-Score',metrics.f1_score(y_test,ys_pred_class))\n",
    "from sklearn.metrics import classification_report\n",
    "print(classification_report(y_test,ys_pred_class,target_names=['Negative','Positive']))"
   ]
  },
  {
   "cell_type": "code",
   "execution_count": 78,
   "metadata": {},
   "outputs": [
    {
     "name": "stdout",
     "output_type": "stream",
     "text": [
      "ROC Rate 0.856153998439\n"
     ]
    },
    {
     "data": {
      "image/png": "[encoded data removed]",
      "text/plain": [
       "<matplotlib.figure.Figure at 0x13d432198>"
      ]
     },
     "metadata": {},
     "output_type": "display_data"
    }
   ],
   "source": [
    "# calculate AUC\n",
    "from sklearn.metrics import roc_curve, auc\n",
    "import matplotlib.pyplot as plt\n",
    "import random\n",
    "false_positive_rate, true_positive_rate, thresholds = roc_curve(y_test, ys_pred_class)\n",
    "roc_auc = auc(false_positive_rate, true_positive_rate)\n",
    "print('ROC Rate', roc_auc)\n",
    "\n",
    "# plot AU-ROC Curve\n",
    "plt.title('Receiver Operating Characteristic')\n",
    "plt.plot(false_positive_rate, true_positive_rate, 'g',\n",
    "label='AUC = %0.2f'% roc_auc)\n",
    "plt.legend(loc='lower right')\n",
    "plt.plot([0,1],[0,1],'r--')\n",
    "plt.xlim([-0.1,1.2])\n",
    "plt.ylim([-0.1,1.2])\n",
    "plt.ylabel('True Positive Rate')\n",
    "plt.xlabel('False Positive Rate')\n",
    "plt.show()"
   ]
  },
  {
   "cell_type": "markdown",
   "metadata": {},
   "source": [
    "K - Fold Cross Validation"
   ]
  },
  {
   "cell_type": "code",
   "execution_count": 80,
   "metadata": {},
   "outputs": [
    {
     "data": {
      "text/plain": [
       "<397900x172065 sparse matrix of type '<class 'numpy.int64'>'\n",
       "\twith 22209354 stored elements in Compressed Sparse Row format>"
      ]
     },
     "execution_count": 80,
     "metadata": {},
     "output_type": "execute_result"
    }
   ],
   "source": [
    "from sklearn import linear_model, datasets\n",
    "from sklearn.cross_validation import cross_val_score\n",
    "from sklearn.cross_validation import cross_val_score\n",
    "import matplotlib.pyplot as plt\n",
    "%matplotlib inline\n",
    "Xlg = vect.fit_transform(x)\n",
    "Xlg"
   ]
  },
  {
   "cell_type": "code",
   "execution_count": 81,
   "metadata": {},
   "outputs": [
    {
     "name": "stdout",
     "output_type": "stream",
     "text": [
      "CPU times: user 24min 55s, sys: 15.1 s, total: 25min 10s\n",
      "Wall time: 13min 15s\n",
      "[ 0.91950782  0.9227649   0.92253755]\n"
     ]
    }
   ],
   "source": [
    "# 3-fold cross-validation with c=100 for logestic regression\n",
    "logreg = LogisticRegression(C=100)\n",
    "%time scores = cross_val_score(logreg, Xlg, y, cv=3, scoring='accuracy')\n",
    "print(scores)"
   ]
  },
  {
   "cell_type": "code",
   "execution_count": 82,
   "metadata": {},
   "outputs": [
    {
     "name": "stdout",
     "output_type": "stream",
     "text": [
      "0.921603422639\n"
     ]
    }
   ],
   "source": [
    "# use average accuracy as an estimate of out-of-sample accuracy\n",
    "print(scores.mean())"
   ]
  },
  {
   "cell_type": "code",
   "execution_count": 83,
   "metadata": {},
   "outputs": [
    {
     "name": "stdout",
     "output_type": "stream",
     "text": [
      "CPU times: user 15 s, sys: 1.23 s, total: 16.2 s\n",
      "Wall time: 16.5 s\n",
      "[ 0.8976577   0.89975873]\n"
     ]
    }
   ],
   "source": [
    "# 2-fold cross-validation with c=0.05 for logestic regression\n",
    "logreg = LogisticRegression(penalty='l1',C=0.05)\n",
    "%time scores = cross_val_score(logreg, Xlg, y, cv=2, scoring='accuracy')\n",
    "print(scores)"
   ]
  },
  {
   "cell_type": "code",
   "execution_count": 84,
   "metadata": {},
   "outputs": [
    {
     "name": "stdout",
     "output_type": "stream",
     "text": [
      "[0.90123901075781465, 0.90122393159219438, 0.90123649757617708, 0.90123649753827995]\n"
     ]
    }
   ],
   "source": [
    "# search for an optimal value of Lambda for Logistic Regression C=1/Lambda\n",
    "logrg = LogisticRegression(penalty='l1',C=0.05)\n",
    "L_range = list(range(1,5))\n",
    "L_scores = []\n",
    "for l in L_range:\n",
    "    logreg = LogisticRegression(C=l)\n",
    "    scores = cross_val_score(logrg, Xlg, y, cv=3, scoring='accuracy')\n",
    "    L_scores.append(scores.mean())\n",
    "print(L_scores)"
   ]
  },
  {
   "cell_type": "code",
   "execution_count": 85,
   "metadata": {},
   "outputs": [
    {
     "data": {
      "text/plain": [
       "<matplotlib.text.Text at 0x13d506da0>"
      ]
     },
     "execution_count": 85,
     "metadata": {},
     "output_type": "execute_result"
    },
    {
     "data": {
      "image/png": "[encoded data removed]",
      "text/plain": [
       "<matplotlib.figure.Figure at 0x13d51e198>"
      ]
     },
     "metadata": {},
     "output_type": "display_data"
    }
   ],
   "source": [
    "import matplotlib.pyplot as plt\n",
    "%matplotlib inline\n",
    "\n",
    "# plot the value of Lambda for Logestic Regression(x-axis) versus the cross-validated accuracy (y-axis)\n",
    "plt.plot(L_range, L_scores)\n",
    "plt.xlabel('Value of Reverse of regularizer for C ')\n",
    "plt.ylabel('Cross-Validated Accuracy')"
   ]
  }
 ],
 "metadata": {
  "kernelspec": {
   "display_name": "Python 3",
   "language": "python",
   "name": "python3"
  },
  "language_info": {
   "codemirror_mode": {
    "name": "ipython",
    "version": 3
   },
   "file_extension": ".py",
   "mimetype": "text/x-python",
   "name": "python",
   "nbconvert_exporter": "python",
   "pygments_lexer": "ipython3",
   "version": "3.7.4"
  }
 },
 "nbformat": 4,
 "nbformat_minor": 2
}
